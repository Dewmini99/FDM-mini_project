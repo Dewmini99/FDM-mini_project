{
 "cells": [
  {
   "cell_type": "code",
   "execution_count": 2,
   "id": "33e427f1",
   "metadata": {},
   "outputs": [
    {
     "name": "stdout",
     "output_type": "stream",
     "text": [
      "Requirement already satisfied: numpy in d:\\fdm_mini\\model\\env\\lib\\site-packages (1.23.4)\n",
      "Requirement already satisfied: pandas in d:\\fdm_mini\\model\\env\\lib\\site-packages (1.5.1)\n",
      "Requirement already satisfied: numpy>=1.20.3 in d:\\fdm_mini\\model\\env\\lib\\site-packages (from pandas) (1.23.4)\n",
      "Requirement already satisfied: python-dateutil>=2.8.1 in d:\\fdm_mini\\model\\env\\lib\\site-packages (from pandas) (2.8.2)\n",
      "Requirement already satisfied: pytz>=2020.1 in d:\\fdm_mini\\model\\env\\lib\\site-packages (from pandas) (2022.5)\n",
      "Requirement already satisfied: six>=1.5 in d:\\fdm_mini\\model\\env\\lib\\site-packages (from python-dateutil>=2.8.1->pandas) (1.16.0)\n"
     ]
    }
   ],
   "source": [
    "!pip install numpy\n",
    "!pip install pandas"
   ]
  },
  {
   "cell_type": "code",
   "execution_count": 3,
   "id": "638bc12d",
   "metadata": {},
   "outputs": [],
   "source": [
    "import numpy as np\n",
    "import pandas as pd"
   ]
  },
  {
   "cell_type": "code",
   "execution_count": 4,
   "id": "55fa99d3",
   "metadata": {},
   "outputs": [
    {
     "name": "stderr",
     "output_type": "stream",
     "text": [
      "C:\\Users\\hasin\\AppData\\Local\\Temp\\ipykernel_21400\\3269314346.py:2: DtypeWarning: Columns (5) have mixed types. Specify dtype option on import or set low_memory=False.\n",
      "  data = pd.read_csv(url, encoding='latin-1')\n"
     ]
    },
    {
     "data": {
      "text/html": [
       "<div>\n",
       "<style scoped>\n",
       "    .dataframe tbody tr th:only-of-type {\n",
       "        vertical-align: middle;\n",
       "    }\n",
       "\n",
       "    .dataframe tbody tr th {\n",
       "        vertical-align: top;\n",
       "    }\n",
       "\n",
       "    .dataframe thead th {\n",
       "        text-align: right;\n",
       "    }\n",
       "</style>\n",
       "<table border=\"1\" class=\"dataframe\">\n",
       "  <thead>\n",
       "    <tr style=\"text-align: right;\">\n",
       "      <th></th>\n",
       "      <th>Title</th>\n",
       "      <th>Sub_title</th>\n",
       "      <th>Price</th>\n",
       "      <th>Brand</th>\n",
       "      <th>Model</th>\n",
       "      <th>Edition</th>\n",
       "      <th>Year</th>\n",
       "      <th>Condition</th>\n",
       "      <th>Transmission</th>\n",
       "      <th>Body</th>\n",
       "      <th>Fuel</th>\n",
       "      <th>Capacity</th>\n",
       "      <th>Mileage</th>\n",
       "      <th>Location</th>\n",
       "      <th>Description</th>\n",
       "      <th>Post_URL</th>\n",
       "      <th>Seller_name</th>\n",
       "      <th>Seller_type</th>\n",
       "      <th>published_date</th>\n",
       "    </tr>\n",
       "  </thead>\n",
       "  <tbody>\n",
       "    <tr>\n",
       "      <th>0</th>\n",
       "      <td>Honda Vezel Limited 2017 for sale</td>\n",
       "      <td>Posted on 01 Sep 2:45 pm, Kurunegala City, Kur...</td>\n",
       "      <td>Rs 12,900,000</td>\n",
       "      <td>Honda</td>\n",
       "      <td>Vezel</td>\n",
       "      <td>Limited</td>\n",
       "      <td>2017</td>\n",
       "      <td>Used</td>\n",
       "      <td>Automatic</td>\n",
       "      <td>SUV / 4x4</td>\n",
       "      <td>Hybrid</td>\n",
       "      <td>1,500 cc</td>\n",
       "      <td>37,000 km</td>\n",
       "      <td>Kurunegala City,  Kurunegala</td>\n",
       "      <td>HONDA VEZEL LIMITEDCBE-XXXXMANU YEAR : 2017LIM...</td>\n",
       "      <td>https://ikman.lk/en/ad/honda-vezel-limited-201...</td>\n",
       "      <td>Prasad Enterprises</td>\n",
       "      <td>Premium-Member</td>\n",
       "      <td>2022-09-01 14:45:00</td>\n",
       "    </tr>\n",
       "    <tr>\n",
       "      <th>1</th>\n",
       "      <td>Jaguar XF Fully Loaded 2013 for sale</td>\n",
       "      <td>Posted on 28 Sep 10:23 am, Kurunegala City, Ku...</td>\n",
       "      <td>Rs 16,250,000</td>\n",
       "      <td>Jaguar</td>\n",
       "      <td>XF</td>\n",
       "      <td>Fully Loaded</td>\n",
       "      <td>2013</td>\n",
       "      <td>Used</td>\n",
       "      <td>Automatic</td>\n",
       "      <td>Saloon</td>\n",
       "      <td>Diesel</td>\n",
       "      <td>2,200 cc</td>\n",
       "      <td>42,000 km</td>\n",
       "      <td>Kurunegala City,  Kurunegala</td>\n",
       "      <td>1st owner(registered owner)Diesel(13-14km per ...</td>\n",
       "      <td>https://ikman.lk/en/ad/jaguar-xf-fully-loaded-...</td>\n",
       "      <td>Dhanushka Dharmasri</td>\n",
       "      <td>Member</td>\n",
       "      <td>2022-09-28 10:23:00</td>\n",
       "    </tr>\n",
       "    <tr>\n",
       "      <th>2</th>\n",
       "      <td>Toyota CHR GT New Face 2wd 2020 for sale</td>\n",
       "      <td>Posted on 16 Sep 1:16 pm, Colombo 7, Colombo</td>\n",
       "      <td>Rs 17,000,000</td>\n",
       "      <td>Toyota</td>\n",
       "      <td>CHR</td>\n",
       "      <td>GT New Face 2wd</td>\n",
       "      <td>2020</td>\n",
       "      <td>Used</td>\n",
       "      <td>Automatic</td>\n",
       "      <td>SUV / 4x4</td>\n",
       "      <td>Petrol</td>\n",
       "      <td>1,200 cc</td>\n",
       "      <td>15,000 km</td>\n",
       "      <td>Colombo 7,  Colombo</td>\n",
       "      <td>2020 Facelift modelFirst owner (No previous ow...</td>\n",
       "      <td>https://ikman.lk/en/ad/toyota-chr-gt-new-face-...</td>\n",
       "      <td>Carzone Lanka</td>\n",
       "      <td>Member</td>\n",
       "      <td>2022-09-16 13:16:00</td>\n",
       "    </tr>\n",
       "    <tr>\n",
       "      <th>3</th>\n",
       "      <td>Toyota CHR Toyato 2017 for sale</td>\n",
       "      <td>Posted on 30 Sep 10:12 am, Colombo 7, Colombo</td>\n",
       "      <td>Rs 13,000,000</td>\n",
       "      <td>Toyota</td>\n",
       "      <td>CHR</td>\n",
       "      <td>Toyato</td>\n",
       "      <td>2017</td>\n",
       "      <td>Used</td>\n",
       "      <td>Automatic</td>\n",
       "      <td>SUV / 4x4</td>\n",
       "      <td>Petrol</td>\n",
       "      <td>1,200 cc</td>\n",
       "      <td>21,000 km</td>\n",
       "      <td>Colombo 7,  Colombo</td>\n",
       "      <td>Toyota CHR GT Turbo1st owner Imported as a bra...</td>\n",
       "      <td>https://ikman.lk/en/ad/toyota-chr-toyato-2017-...</td>\n",
       "      <td>Carzone Lanka</td>\n",
       "      <td>Member</td>\n",
       "      <td>2022-09-30 10:12:00</td>\n",
       "    </tr>\n",
       "    <tr>\n",
       "      <th>4</th>\n",
       "      <td>Toyota Land Cruiser Prado 2015 for sale</td>\n",
       "      <td>Posted on 30 Sep 9:50 pm, Kelaniya, Gampaha</td>\n",
       "      <td>Rs 33,500,000</td>\n",
       "      <td>Toyota</td>\n",
       "      <td>Land Cruiser Prado</td>\n",
       "      <td>prado</td>\n",
       "      <td>2015</td>\n",
       "      <td>Used</td>\n",
       "      <td>Automatic</td>\n",
       "      <td>SUV / 4x4</td>\n",
       "      <td>Petrol</td>\n",
       "      <td>2,700 cc</td>\n",
       "      <td>57,000 km</td>\n",
       "      <td>Kelaniya,  Gampaha</td>\n",
       "      <td>Toyota Land Cruiser Prado 20152 nd Owner for 5...</td>\n",
       "      <td>https://ikman.lk/en/ad/toyota-land-cruiser-pra...</td>\n",
       "      <td>Shine Music Center</td>\n",
       "      <td>Member</td>\n",
       "      <td>2022-09-30 21:50:00</td>\n",
       "    </tr>\n",
       "  </tbody>\n",
       "</table>\n",
       "</div>"
      ],
      "text/plain": [
       "                                      Title  \\\n",
       "0         Honda Vezel Limited 2017 for sale   \n",
       "1      Jaguar XF Fully Loaded 2013 for sale   \n",
       "2  Toyota CHR GT New Face 2wd 2020 for sale   \n",
       "3           Toyota CHR Toyato 2017 for sale   \n",
       "4   Toyota Land Cruiser Prado 2015 for sale   \n",
       "\n",
       "                                           Sub_title          Price   Brand  \\\n",
       "0  Posted on 01 Sep 2:45 pm, Kurunegala City, Kur...  Rs 12,900,000   Honda   \n",
       "1  Posted on 28 Sep 10:23 am, Kurunegala City, Ku...  Rs 16,250,000  Jaguar   \n",
       "2       Posted on 16 Sep 1:16 pm, Colombo 7, Colombo  Rs 17,000,000  Toyota   \n",
       "3      Posted on 30 Sep 10:12 am, Colombo 7, Colombo  Rs 13,000,000  Toyota   \n",
       "4        Posted on 30 Sep 9:50 pm, Kelaniya, Gampaha  Rs 33,500,000  Toyota   \n",
       "\n",
       "                Model          Edition  Year Condition Transmission  \\\n",
       "0               Vezel          Limited  2017      Used    Automatic   \n",
       "1                  XF     Fully Loaded  2013      Used    Automatic   \n",
       "2                 CHR  GT New Face 2wd  2020      Used    Automatic   \n",
       "3                 CHR           Toyato  2017      Used    Automatic   \n",
       "4  Land Cruiser Prado            prado  2015      Used    Automatic   \n",
       "\n",
       "        Body    Fuel  Capacity    Mileage                       Location  \\\n",
       "0  SUV / 4x4  Hybrid  1,500 cc  37,000 km   Kurunegala City,  Kurunegala   \n",
       "1     Saloon  Diesel  2,200 cc  42,000 km   Kurunegala City,  Kurunegala   \n",
       "2  SUV / 4x4  Petrol  1,200 cc  15,000 km            Colombo 7,  Colombo   \n",
       "3  SUV / 4x4  Petrol  1,200 cc  21,000 km            Colombo 7,  Colombo   \n",
       "4  SUV / 4x4  Petrol  2,700 cc  57,000 km             Kelaniya,  Gampaha   \n",
       "\n",
       "                                         Description  \\\n",
       "0  HONDA VEZEL LIMITEDCBE-XXXXMANU YEAR : 2017LIM...   \n",
       "1  1st owner(registered owner)Diesel(13-14km per ...   \n",
       "2  2020 Facelift modelFirst owner (No previous ow...   \n",
       "3  Toyota CHR GT Turbo1st owner Imported as a bra...   \n",
       "4  Toyota Land Cruiser Prado 20152 nd Owner for 5...   \n",
       "\n",
       "                                            Post_URL          Seller_name  \\\n",
       "0  https://ikman.lk/en/ad/honda-vezel-limited-201...   Prasad Enterprises   \n",
       "1  https://ikman.lk/en/ad/jaguar-xf-fully-loaded-...  Dhanushka Dharmasri   \n",
       "2  https://ikman.lk/en/ad/toyota-chr-gt-new-face-...        Carzone Lanka   \n",
       "3  https://ikman.lk/en/ad/toyota-chr-toyato-2017-...        Carzone Lanka   \n",
       "4  https://ikman.lk/en/ad/toyota-land-cruiser-pra...   Shine Music Center   \n",
       "\n",
       "      Seller_type       published_date  \n",
       "0  Premium-Member  2022-09-01 14:45:00  \n",
       "1          Member  2022-09-28 10:23:00  \n",
       "2          Member  2022-09-16 13:16:00  \n",
       "3          Member  2022-09-30 10:12:00  \n",
       "4          Member  2022-09-30 21:50:00  "
      ]
     },
     "execution_count": 4,
     "metadata": {},
     "output_type": "execute_result"
    }
   ],
   "source": [
    "url = \"https://raw.githubusercontent.com/Dewmini99/FDM-mini_project/master/vehicle_data.csv\"\n",
    "data = pd.read_csv(url, encoding='latin-1')\n",
    "data.head()"
   ]
  },
  {
   "cell_type": "code",
   "execution_count": 5,
   "id": "c5f8efd2",
   "metadata": {},
   "outputs": [
    {
     "data": {
      "text/plain": [
       "(123971, 19)"
      ]
     },
     "execution_count": 5,
     "metadata": {},
     "output_type": "execute_result"
    }
   ],
   "source": [
    "data.shape\n"
   ]
  },
  {
   "cell_type": "code",
   "execution_count": 7,
   "id": "7548f499",
   "metadata": {},
   "outputs": [
    {
     "data": {
      "text/plain": [
       "Title                 0\n",
       "Sub_title             0\n",
       "Price                 0\n",
       "Brand                 0\n",
       "Model                 1\n",
       "Edition           76433\n",
       "Year                  0\n",
       "Condition             0\n",
       "Transmission          1\n",
       "Body               5095\n",
       "Fuel                  0\n",
       "Capacity            205\n",
       "Mileage               0\n",
       "Location              0\n",
       "Description       16174\n",
       "Post_URL              0\n",
       "Seller_name          98\n",
       "Seller_type           0\n",
       "published_date        0\n",
       "dtype: int64"
      ]
     },
     "execution_count": 7,
     "metadata": {},
     "output_type": "execute_result"
    }
   ],
   "source": [
    "data.isnull().sum()\n"
   ]
  },
  {
   "cell_type": "code",
   "execution_count": 9,
   "id": "15a4b5c7",
   "metadata": {},
   "outputs": [
    {
     "name": "stdout",
     "output_type": "stream",
     "text": [
      "<class 'pandas.core.frame.DataFrame'>\n",
      "RangeIndex: 123971 entries, 0 to 123970\n",
      "Data columns (total 19 columns):\n",
      " #   Column          Non-Null Count   Dtype \n",
      "---  ------          --------------   ----- \n",
      " 0   Title           123971 non-null  object\n",
      " 1   Sub_title       123971 non-null  object\n",
      " 2   Price           123971 non-null  object\n",
      " 3   Brand           123971 non-null  object\n",
      " 4   Model           123970 non-null  object\n",
      " 5   Edition         47538 non-null   object\n",
      " 6   Year            123971 non-null  int64 \n",
      " 7   Condition       123971 non-null  object\n",
      " 8   Transmission    123970 non-null  object\n",
      " 9   Body            118876 non-null  object\n",
      " 10  Fuel            123971 non-null  object\n",
      " 11  Capacity        123766 non-null  object\n",
      " 12  Mileage         123971 non-null  object\n",
      " 13  Location        123971 non-null  object\n",
      " 14  Description     107797 non-null  object\n",
      " 15  Post_URL        123971 non-null  object\n",
      " 16  Seller_name     123873 non-null  object\n",
      " 17  Seller_type     123971 non-null  object\n",
      " 18  published_date  123971 non-null  object\n",
      "dtypes: int64(1), object(18)\n",
      "memory usage: 18.0+ MB\n"
     ]
    }
   ],
   "source": [
    "data.info()"
   ]
  },
  {
   "cell_type": "code",
   "execution_count": 11,
   "id": "993b604b",
   "metadata": {},
   "outputs": [
    {
     "data": {
      "text/html": [
       "<div>\n",
       "<style scoped>\n",
       "    .dataframe tbody tr th:only-of-type {\n",
       "        vertical-align: middle;\n",
       "    }\n",
       "\n",
       "    .dataframe tbody tr th {\n",
       "        vertical-align: top;\n",
       "    }\n",
       "\n",
       "    .dataframe thead th {\n",
       "        text-align: right;\n",
       "    }\n",
       "</style>\n",
       "<table border=\"1\" class=\"dataframe\">\n",
       "  <thead>\n",
       "    <tr style=\"text-align: right;\">\n",
       "      <th></th>\n",
       "      <th>Title</th>\n",
       "      <th>Sub_title</th>\n",
       "      <th>Price</th>\n",
       "      <th>Brand</th>\n",
       "      <th>Model</th>\n",
       "      <th>Edition</th>\n",
       "      <th>Year</th>\n",
       "      <th>Condition</th>\n",
       "      <th>Transmission</th>\n",
       "      <th>Body</th>\n",
       "      <th>Fuel</th>\n",
       "      <th>Capacity</th>\n",
       "      <th>Mileage</th>\n",
       "      <th>Location</th>\n",
       "      <th>Description</th>\n",
       "      <th>Post_URL</th>\n",
       "      <th>Seller_name</th>\n",
       "      <th>Seller_type</th>\n",
       "      <th>published_date</th>\n",
       "    </tr>\n",
       "  </thead>\n",
       "  <tbody>\n",
       "    <tr>\n",
       "      <th>0</th>\n",
       "      <td>Honda Vezel Limited 2017 for sale</td>\n",
       "      <td>Posted on 01 Sep 2:45 pm, Kurunegala City, Kur...</td>\n",
       "      <td>Rs 12,900,000</td>\n",
       "      <td>Honda</td>\n",
       "      <td>Vezel</td>\n",
       "      <td>Limited</td>\n",
       "      <td>2017</td>\n",
       "      <td>Used</td>\n",
       "      <td>Automatic</td>\n",
       "      <td>SUV / 4x4</td>\n",
       "      <td>Hybrid</td>\n",
       "      <td>1,500 cc</td>\n",
       "      <td>37,000 km</td>\n",
       "      <td>Kurunegala City,  Kurunegala</td>\n",
       "      <td>HONDA VEZEL LIMITEDCBE-XXXXMANU YEAR : 2017LIM...</td>\n",
       "      <td>https://ikman.lk/en/ad/honda-vezel-limited-201...</td>\n",
       "      <td>Prasad Enterprises</td>\n",
       "      <td>Premium-Member</td>\n",
       "      <td>2022-09-01 14:45:00</td>\n",
       "    </tr>\n",
       "    <tr>\n",
       "      <th>1</th>\n",
       "      <td>Jaguar XF Fully Loaded 2013 for sale</td>\n",
       "      <td>Posted on 28 Sep 10:23 am, Kurunegala City, Ku...</td>\n",
       "      <td>Rs 16,250,000</td>\n",
       "      <td>Jaguar</td>\n",
       "      <td>XF</td>\n",
       "      <td>Fully Loaded</td>\n",
       "      <td>2013</td>\n",
       "      <td>Used</td>\n",
       "      <td>Automatic</td>\n",
       "      <td>Saloon</td>\n",
       "      <td>Diesel</td>\n",
       "      <td>2,200 cc</td>\n",
       "      <td>42,000 km</td>\n",
       "      <td>Kurunegala City,  Kurunegala</td>\n",
       "      <td>1st owner(registered owner)Diesel(13-14km per ...</td>\n",
       "      <td>https://ikman.lk/en/ad/jaguar-xf-fully-loaded-...</td>\n",
       "      <td>Dhanushka Dharmasri</td>\n",
       "      <td>Member</td>\n",
       "      <td>2022-09-28 10:23:00</td>\n",
       "    </tr>\n",
       "    <tr>\n",
       "      <th>2</th>\n",
       "      <td>Toyota CHR GT New Face 2wd 2020 for sale</td>\n",
       "      <td>Posted on 16 Sep 1:16 pm, Colombo 7, Colombo</td>\n",
       "      <td>Rs 17,000,000</td>\n",
       "      <td>Toyota</td>\n",
       "      <td>CHR</td>\n",
       "      <td>GT New Face 2wd</td>\n",
       "      <td>2020</td>\n",
       "      <td>Used</td>\n",
       "      <td>Automatic</td>\n",
       "      <td>SUV / 4x4</td>\n",
       "      <td>Petrol</td>\n",
       "      <td>1,200 cc</td>\n",
       "      <td>15,000 km</td>\n",
       "      <td>Colombo 7,  Colombo</td>\n",
       "      <td>2020 Facelift modelFirst owner (No previous ow...</td>\n",
       "      <td>https://ikman.lk/en/ad/toyota-chr-gt-new-face-...</td>\n",
       "      <td>Carzone Lanka</td>\n",
       "      <td>Member</td>\n",
       "      <td>2022-09-16 13:16:00</td>\n",
       "    </tr>\n",
       "    <tr>\n",
       "      <th>3</th>\n",
       "      <td>Toyota CHR Toyato 2017 for sale</td>\n",
       "      <td>Posted on 30 Sep 10:12 am, Colombo 7, Colombo</td>\n",
       "      <td>Rs 13,000,000</td>\n",
       "      <td>Toyota</td>\n",
       "      <td>CHR</td>\n",
       "      <td>Toyato</td>\n",
       "      <td>2017</td>\n",
       "      <td>Used</td>\n",
       "      <td>Automatic</td>\n",
       "      <td>SUV / 4x4</td>\n",
       "      <td>Petrol</td>\n",
       "      <td>1,200 cc</td>\n",
       "      <td>21,000 km</td>\n",
       "      <td>Colombo 7,  Colombo</td>\n",
       "      <td>Toyota CHR GT Turbo1st owner Imported as a bra...</td>\n",
       "      <td>https://ikman.lk/en/ad/toyota-chr-toyato-2017-...</td>\n",
       "      <td>Carzone Lanka</td>\n",
       "      <td>Member</td>\n",
       "      <td>2022-09-30 10:12:00</td>\n",
       "    </tr>\n",
       "    <tr>\n",
       "      <th>4</th>\n",
       "      <td>Toyota Land Cruiser Prado 2015 for sale</td>\n",
       "      <td>Posted on 30 Sep 9:50 pm, Kelaniya, Gampaha</td>\n",
       "      <td>Rs 33,500,000</td>\n",
       "      <td>Toyota</td>\n",
       "      <td>Land Cruiser Prado</td>\n",
       "      <td>prado</td>\n",
       "      <td>2015</td>\n",
       "      <td>Used</td>\n",
       "      <td>Automatic</td>\n",
       "      <td>SUV / 4x4</td>\n",
       "      <td>Petrol</td>\n",
       "      <td>2,700 cc</td>\n",
       "      <td>57,000 km</td>\n",
       "      <td>Kelaniya,  Gampaha</td>\n",
       "      <td>Toyota Land Cruiser Prado 20152 nd Owner for 5...</td>\n",
       "      <td>https://ikman.lk/en/ad/toyota-land-cruiser-pra...</td>\n",
       "      <td>Shine Music Center</td>\n",
       "      <td>Member</td>\n",
       "      <td>2022-09-30 21:50:00</td>\n",
       "    </tr>\n",
       "  </tbody>\n",
       "</table>\n",
       "</div>"
      ],
      "text/plain": [
       "                                      Title  \\\n",
       "0         Honda Vezel Limited 2017 for sale   \n",
       "1      Jaguar XF Fully Loaded 2013 for sale   \n",
       "2  Toyota CHR GT New Face 2wd 2020 for sale   \n",
       "3           Toyota CHR Toyato 2017 for sale   \n",
       "4   Toyota Land Cruiser Prado 2015 for sale   \n",
       "\n",
       "                                           Sub_title          Price   Brand  \\\n",
       "0  Posted on 01 Sep 2:45 pm, Kurunegala City, Kur...  Rs 12,900,000   Honda   \n",
       "1  Posted on 28 Sep 10:23 am, Kurunegala City, Ku...  Rs 16,250,000  Jaguar   \n",
       "2       Posted on 16 Sep 1:16 pm, Colombo 7, Colombo  Rs 17,000,000  Toyota   \n",
       "3      Posted on 30 Sep 10:12 am, Colombo 7, Colombo  Rs 13,000,000  Toyota   \n",
       "4        Posted on 30 Sep 9:50 pm, Kelaniya, Gampaha  Rs 33,500,000  Toyota   \n",
       "\n",
       "                Model          Edition  Year Condition Transmission  \\\n",
       "0               Vezel          Limited  2017      Used    Automatic   \n",
       "1                  XF     Fully Loaded  2013      Used    Automatic   \n",
       "2                 CHR  GT New Face 2wd  2020      Used    Automatic   \n",
       "3                 CHR           Toyato  2017      Used    Automatic   \n",
       "4  Land Cruiser Prado            prado  2015      Used    Automatic   \n",
       "\n",
       "        Body    Fuel  Capacity    Mileage                       Location  \\\n",
       "0  SUV / 4x4  Hybrid  1,500 cc  37,000 km   Kurunegala City,  Kurunegala   \n",
       "1     Saloon  Diesel  2,200 cc  42,000 km   Kurunegala City,  Kurunegala   \n",
       "2  SUV / 4x4  Petrol  1,200 cc  15,000 km            Colombo 7,  Colombo   \n",
       "3  SUV / 4x4  Petrol  1,200 cc  21,000 km            Colombo 7,  Colombo   \n",
       "4  SUV / 4x4  Petrol  2,700 cc  57,000 km             Kelaniya,  Gampaha   \n",
       "\n",
       "                                         Description  \\\n",
       "0  HONDA VEZEL LIMITEDCBE-XXXXMANU YEAR : 2017LIM...   \n",
       "1  1st owner(registered owner)Diesel(13-14km per ...   \n",
       "2  2020 Facelift modelFirst owner (No previous ow...   \n",
       "3  Toyota CHR GT Turbo1st owner Imported as a bra...   \n",
       "4  Toyota Land Cruiser Prado 20152 nd Owner for 5...   \n",
       "\n",
       "                                            Post_URL          Seller_name  \\\n",
       "0  https://ikman.lk/en/ad/honda-vezel-limited-201...   Prasad Enterprises   \n",
       "1  https://ikman.lk/en/ad/jaguar-xf-fully-loaded-...  Dhanushka Dharmasri   \n",
       "2  https://ikman.lk/en/ad/toyota-chr-gt-new-face-...        Carzone Lanka   \n",
       "3  https://ikman.lk/en/ad/toyota-chr-toyato-2017-...        Carzone Lanka   \n",
       "4  https://ikman.lk/en/ad/toyota-land-cruiser-pra...   Shine Music Center   \n",
       "\n",
       "      Seller_type       published_date  \n",
       "0  Premium-Member  2022-09-01 14:45:00  \n",
       "1          Member  2022-09-28 10:23:00  \n",
       "2          Member  2022-09-16 13:16:00  \n",
       "3          Member  2022-09-30 10:12:00  \n",
       "4          Member  2022-09-30 21:50:00  "
      ]
     },
     "execution_count": 11,
     "metadata": {},
     "output_type": "execute_result"
    }
   ],
   "source": [
    "#relace null shells(?) to NaN\n",
    "data.replace(\"?\", np.nan, inplace = True)\n",
    "data.head()"
   ]
  },
  {
   "cell_type": "code",
   "execution_count": 13,
   "id": "f1ec1a50",
   "metadata": {},
   "outputs": [
    {
     "data": {
      "text/plain": [
       "Title                 0\n",
       "Sub_title             0\n",
       "Price                 0\n",
       "Brand                 0\n",
       "Model                 1\n",
       "Edition           76433\n",
       "Year                  0\n",
       "Condition             0\n",
       "Transmission          1\n",
       "Body               5095\n",
       "Fuel                  0\n",
       "Capacity            205\n",
       "Mileage               0\n",
       "Location              0\n",
       "Description       16174\n",
       "Post_URL              0\n",
       "Seller_name          98\n",
       "Seller_type           0\n",
       "published_date        0\n",
       "dtype: int64"
      ]
     },
     "execution_count": 13,
     "metadata": {},
     "output_type": "execute_result"
    }
   ],
   "source": [
    "data.isnull().sum()\n"
   ]
  },
  {
   "cell_type": "code",
   "execution_count": 14,
   "id": "23cf5397",
   "metadata": {},
   "outputs": [
    {
     "data": {
      "text/plain": [
       "Toyota                 780\n",
       "G Grade                629\n",
       "G Superior             608\n",
       "Suzuki                 390\n",
       "-                      346\n",
       "                      ... \n",
       "106 hilux 4wd            1\n",
       "SURF 4WD                 1\n",
       "Extreme Full Option      1\n",
       "GP2 Navy                 1\n",
       "G -TURBO                 1\n",
       "Name: Edition, Length: 15260, dtype: int64"
      ]
     },
     "execution_count": 14,
     "metadata": {},
     "output_type": "execute_result"
    }
   ],
   "source": [
    "data['Edition'].value_counts()"
   ]
  },
  {
   "cell_type": "code",
   "execution_count": 17,
   "id": "4ffeb834",
   "metadata": {},
   "outputs": [],
   "source": [
    "#To replace the missing values of Edition column by \"Not mention\" \n",
    "data['Edition'].replace(np.nan, \"Not mention\", inplace = True)"
   ]
  },
  {
   "cell_type": "code",
   "execution_count": 19,
   "id": "556da7d3",
   "metadata": {},
   "outputs": [],
   "source": [
    "#To replace the missing values of Description column by \"Not mention\" \n",
    "data['Description'].replace(np.nan, \"Not mention\", inplace = True)"
   ]
  },
  {
   "cell_type": "code",
   "execution_count": 20,
   "id": "2fe5a9a9",
   "metadata": {},
   "outputs": [],
   "source": [
    "#To replace the missing values of Body column by \"Not mention\" \n",
    "data['Body'].replace(np.nan, \"Not mention\", inplace = True)"
   ]
  },
  {
   "cell_type": "code",
   "execution_count": 24,
   "id": "acd6e1e3",
   "metadata": {},
   "outputs": [],
   "source": [
    "#to drop whole rows with capacity value = NaN \n",
    "data.dropna(subset=[\"Capacity\"], axis = 0, inplace =True)\n",
    "\n",
    "#reset index, becusce some rows are droped\n",
    "data.reset_index(drop = True, inplace = True )"
   ]
  },
  {
   "cell_type": "code",
   "execution_count": 25,
   "id": "8b321f1f",
   "metadata": {},
   "outputs": [],
   "source": [
    "#to drop whole rows with Transmission value = NaN \n",
    "data.dropna(subset=[\"Transmission\"], axis = 0, inplace =True)\n",
    "\n",
    "#reset index, becusce some rows are droped\n",
    "data.reset_index(drop = True, inplace = True )"
   ]
  },
  {
   "cell_type": "code",
   "execution_count": 26,
   "id": "20d09c19",
   "metadata": {},
   "outputs": [],
   "source": [
    "#to drop whole rows with Model value = NaN \n",
    "data.dropna(subset=[\"Model\"], axis = 0, inplace =True)\n",
    "\n",
    "#reset index, becusce some rows are droped\n",
    "data.reset_index(drop = True, inplace = True )"
   ]
  },
  {
   "cell_type": "code",
   "execution_count": 29,
   "id": "d4e1782d",
   "metadata": {},
   "outputs": [],
   "source": [
    "#To replace the missing values of Seller name column by \"Not mention\" \n",
    "data['Seller_name'].replace(np.nan, \"Seller_name\", inplace = True)"
   ]
  },
  {
   "cell_type": "code",
   "execution_count": 30,
   "id": "282f4b52",
   "metadata": {},
   "outputs": [
    {
     "data": {
      "text/plain": [
       "Title             0\n",
       "Sub_title         0\n",
       "Price             0\n",
       "Brand             0\n",
       "Model             0\n",
       "Edition           0\n",
       "Year              0\n",
       "Condition         0\n",
       "Transmission      0\n",
       "Body              0\n",
       "Fuel              0\n",
       "Capacity          0\n",
       "Mileage           0\n",
       "Location          0\n",
       "Description       0\n",
       "Post_URL          0\n",
       "Seller_name       0\n",
       "Seller_type       0\n",
       "published_date    0\n",
       "dtype: int64"
      ]
     },
     "execution_count": 30,
     "metadata": {},
     "output_type": "execute_result"
    }
   ],
   "source": [
    "data.isnull().sum()\n"
   ]
  },
  {
   "cell_type": "code",
   "execution_count": 37,
   "id": "35630221",
   "metadata": {},
   "outputs": [],
   "source": [
    "\n",
    "data['Mileage'] = data['Mileage'].str.replace(',','')\n",
    "data['Price'] = data['Price'].str.replace(',','')\n",
    "data['Capacity'] = data['Capacity'].str.replace(',','')\n"
   ]
  },
  {
   "cell_type": "code",
   "execution_count": 39,
   "id": "b2d57abf",
   "metadata": {},
   "outputs": [
    {
     "data": {
      "text/html": [
       "<div>\n",
       "<style scoped>\n",
       "    .dataframe tbody tr th:only-of-type {\n",
       "        vertical-align: middle;\n",
       "    }\n",
       "\n",
       "    .dataframe tbody tr th {\n",
       "        vertical-align: top;\n",
       "    }\n",
       "\n",
       "    .dataframe thead th {\n",
       "        text-align: right;\n",
       "    }\n",
       "</style>\n",
       "<table border=\"1\" class=\"dataframe\">\n",
       "  <thead>\n",
       "    <tr style=\"text-align: right;\">\n",
       "      <th></th>\n",
       "      <th>Title</th>\n",
       "      <th>Sub_title</th>\n",
       "      <th>Price</th>\n",
       "      <th>Brand</th>\n",
       "      <th>Model</th>\n",
       "      <th>Edition</th>\n",
       "      <th>Year</th>\n",
       "      <th>Condition</th>\n",
       "      <th>Transmission</th>\n",
       "      <th>Body</th>\n",
       "      <th>Fuel</th>\n",
       "      <th>Capacity</th>\n",
       "      <th>Mileage</th>\n",
       "      <th>Location</th>\n",
       "      <th>Description</th>\n",
       "      <th>Post_URL</th>\n",
       "      <th>Seller_name</th>\n",
       "      <th>Seller_type</th>\n",
       "      <th>published_date</th>\n",
       "    </tr>\n",
       "  </thead>\n",
       "  <tbody>\n",
       "    <tr>\n",
       "      <th>0</th>\n",
       "      <td>Honda Vezel Limited 2017 for sale</td>\n",
       "      <td>Posted on 01 Sep 2:45 pm, Kurunegala City, Kur...</td>\n",
       "      <td>Rs 12900000</td>\n",
       "      <td>Honda</td>\n",
       "      <td>Vezel</td>\n",
       "      <td>Limited</td>\n",
       "      <td>2017</td>\n",
       "      <td>Used</td>\n",
       "      <td>Automatic</td>\n",
       "      <td>SUV / 4x4</td>\n",
       "      <td>Hybrid</td>\n",
       "      <td>1500 cc</td>\n",
       "      <td>37000 km</td>\n",
       "      <td>Kurunegala City,  Kurunegala</td>\n",
       "      <td>HONDA VEZEL LIMITEDCBE-XXXXMANU YEAR : 2017LIM...</td>\n",
       "      <td>https://ikman.lk/en/ad/honda-vezel-limited-201...</td>\n",
       "      <td>Prasad Enterprises</td>\n",
       "      <td>Premium-Member</td>\n",
       "      <td>2022-09-01 14:45:00</td>\n",
       "    </tr>\n",
       "    <tr>\n",
       "      <th>1</th>\n",
       "      <td>Jaguar XF Fully Loaded 2013 for sale</td>\n",
       "      <td>Posted on 28 Sep 10:23 am, Kurunegala City, Ku...</td>\n",
       "      <td>Rs 16250000</td>\n",
       "      <td>Jaguar</td>\n",
       "      <td>XF</td>\n",
       "      <td>Fully Loaded</td>\n",
       "      <td>2013</td>\n",
       "      <td>Used</td>\n",
       "      <td>Automatic</td>\n",
       "      <td>Saloon</td>\n",
       "      <td>Diesel</td>\n",
       "      <td>2200 cc</td>\n",
       "      <td>42000 km</td>\n",
       "      <td>Kurunegala City,  Kurunegala</td>\n",
       "      <td>1st owner(registered owner)Diesel(13-14km per ...</td>\n",
       "      <td>https://ikman.lk/en/ad/jaguar-xf-fully-loaded-...</td>\n",
       "      <td>Dhanushka Dharmasri</td>\n",
       "      <td>Member</td>\n",
       "      <td>2022-09-28 10:23:00</td>\n",
       "    </tr>\n",
       "    <tr>\n",
       "      <th>2</th>\n",
       "      <td>Toyota CHR GT New Face 2wd 2020 for sale</td>\n",
       "      <td>Posted on 16 Sep 1:16 pm, Colombo 7, Colombo</td>\n",
       "      <td>Rs 17000000</td>\n",
       "      <td>Toyota</td>\n",
       "      <td>CHR</td>\n",
       "      <td>GT New Face 2wd</td>\n",
       "      <td>2020</td>\n",
       "      <td>Used</td>\n",
       "      <td>Automatic</td>\n",
       "      <td>SUV / 4x4</td>\n",
       "      <td>Petrol</td>\n",
       "      <td>1200 cc</td>\n",
       "      <td>15000 km</td>\n",
       "      <td>Colombo 7,  Colombo</td>\n",
       "      <td>2020 Facelift modelFirst owner (No previous ow...</td>\n",
       "      <td>https://ikman.lk/en/ad/toyota-chr-gt-new-face-...</td>\n",
       "      <td>Carzone Lanka</td>\n",
       "      <td>Member</td>\n",
       "      <td>2022-09-16 13:16:00</td>\n",
       "    </tr>\n",
       "  </tbody>\n",
       "</table>\n",
       "</div>"
      ],
      "text/plain": [
       "                                      Title  \\\n",
       "0         Honda Vezel Limited 2017 for sale   \n",
       "1      Jaguar XF Fully Loaded 2013 for sale   \n",
       "2  Toyota CHR GT New Face 2wd 2020 for sale   \n",
       "\n",
       "                                           Sub_title        Price   Brand  \\\n",
       "0  Posted on 01 Sep 2:45 pm, Kurunegala City, Kur...  Rs 12900000   Honda   \n",
       "1  Posted on 28 Sep 10:23 am, Kurunegala City, Ku...  Rs 16250000  Jaguar   \n",
       "2       Posted on 16 Sep 1:16 pm, Colombo 7, Colombo  Rs 17000000  Toyota   \n",
       "\n",
       "   Model          Edition  Year Condition Transmission       Body    Fuel  \\\n",
       "0  Vezel          Limited  2017      Used    Automatic  SUV / 4x4  Hybrid   \n",
       "1     XF     Fully Loaded  2013      Used    Automatic     Saloon  Diesel   \n",
       "2    CHR  GT New Face 2wd  2020      Used    Automatic  SUV / 4x4  Petrol   \n",
       "\n",
       "  Capacity   Mileage                       Location  \\\n",
       "0  1500 cc  37000 km   Kurunegala City,  Kurunegala   \n",
       "1  2200 cc  42000 km   Kurunegala City,  Kurunegala   \n",
       "2  1200 cc  15000 km            Colombo 7,  Colombo   \n",
       "\n",
       "                                         Description  \\\n",
       "0  HONDA VEZEL LIMITEDCBE-XXXXMANU YEAR : 2017LIM...   \n",
       "1  1st owner(registered owner)Diesel(13-14km per ...   \n",
       "2  2020 Facelift modelFirst owner (No previous ow...   \n",
       "\n",
       "                                            Post_URL          Seller_name  \\\n",
       "0  https://ikman.lk/en/ad/honda-vezel-limited-201...   Prasad Enterprises   \n",
       "1  https://ikman.lk/en/ad/jaguar-xf-fully-loaded-...  Dhanushka Dharmasri   \n",
       "2  https://ikman.lk/en/ad/toyota-chr-gt-new-face-...        Carzone Lanka   \n",
       "\n",
       "      Seller_type       published_date  \n",
       "0  Premium-Member  2022-09-01 14:45:00  \n",
       "1          Member  2022-09-28 10:23:00  \n",
       "2          Member  2022-09-16 13:16:00  "
      ]
     },
     "execution_count": 39,
     "metadata": {},
     "output_type": "execute_result"
    }
   ],
   "source": [
    "data.head(3)"
   ]
  },
  {
   "cell_type": "code",
   "execution_count": 47,
   "id": "06f97b79",
   "metadata": {},
   "outputs": [
    {
     "name": "stdout",
     "output_type": "stream",
     "text": [
      "<class 'pandas.core.frame.DataFrame'>\n",
      "RangeIndex: 123764 entries, 0 to 123763\n",
      "Data columns (total 19 columns):\n",
      " #   Column          Non-Null Count   Dtype \n",
      "---  ------          --------------   ----- \n",
      " 0   Title           123764 non-null  object\n",
      " 1   Sub_title       123764 non-null  object\n",
      " 2   Price           123764 non-null  object\n",
      " 3   Brand           123764 non-null  object\n",
      " 4   Model           123764 non-null  object\n",
      " 5   Edition         123764 non-null  object\n",
      " 6   Year            123764 non-null  int64 \n",
      " 7   Condition       123764 non-null  object\n",
      " 8   Transmission    123764 non-null  object\n",
      " 9   Body            123764 non-null  object\n",
      " 10  Fuel            123764 non-null  object\n",
      " 11  Capacity        123764 non-null  object\n",
      " 12  Mileage         123764 non-null  object\n",
      " 13  Location        123764 non-null  object\n",
      " 14  Description     123764 non-null  object\n",
      " 15  Post_URL        123764 non-null  object\n",
      " 16  Seller_name     123764 non-null  object\n",
      " 17  Seller_type     123764 non-null  object\n",
      " 18  published_date  123764 non-null  object\n",
      "dtypes: int64(1), object(18)\n",
      "memory usage: 17.9+ MB\n"
     ]
    }
   ],
   "source": [
    "data.info()\n",
    "\n"
   ]
  },
  {
   "cell_type": "code",
   "execution_count": 50,
   "id": "8df0638c",
   "metadata": {},
   "outputs": [],
   "source": [
    "data['Price'] = data['Price'].str.replace('Rs','')"
   ]
  },
  {
   "cell_type": "code",
   "execution_count": 58,
   "id": "293b95ef",
   "metadata": {},
   "outputs": [
    {
     "name": "stderr",
     "output_type": "stream",
     "text": [
      "C:\\Users\\hasin\\AppData\\Local\\Temp\\ipykernel_21400\\3451015834.py:1: FutureWarning: The default value of regex will change from True to False in a future version.\n",
      "  data['Price'] = data['Price'].str.replace('. ','')\n"
     ]
    }
   ],
   "source": [
    "data['Price'] = data['Price'].str.replace('. ','')"
   ]
  },
  {
   "cell_type": "code",
   "execution_count": 66,
   "id": "76c61c23",
   "metadata": {},
   "outputs": [
    {
     "data": {
      "text/plain": [
       " Negotiable    5492\n",
       " 5500000        632\n",
       " 6500000        624\n",
       " 7500000        496\n",
       " 8500000        492\n",
       "               ... \n",
       " 23050000         1\n",
       " 2340999          1\n",
       " 606000           1\n",
       " 14395000         1\n",
       " 26595000         1\n",
       "Name: Price, Length: 3572, dtype: int64"
      ]
     },
     "execution_count": 66,
     "metadata": {},
     "output_type": "execute_result"
    }
   ],
   "source": [
    "data['Price'].value_counts()\n",
    "\n"
   ]
  },
  {
   "cell_type": "code",
   "execution_count": 70,
   "id": "5c6fea42",
   "metadata": {},
   "outputs": [],
   "source": [
    "#to drop whole rows with Price = Negotiable\n",
    "data = data[data[\"Price\"].str.contains(\"Negotiable\") == False]"
   ]
  },
  {
   "cell_type": "code",
   "execution_count": 71,
   "id": "2975eef0",
   "metadata": {},
   "outputs": [
    {
     "name": "stdout",
     "output_type": "stream",
     "text": [
      "Title             object\n",
      "Sub_title         object\n",
      "Price              int64\n",
      "Brand             object\n",
      "Model             object\n",
      "Edition           object\n",
      "Year               int64\n",
      "Condition         object\n",
      "Transmission      object\n",
      "Body              object\n",
      "Fuel              object\n",
      "Capacity          object\n",
      "Mileage           object\n",
      "Location          object\n",
      "Description       object\n",
      "Post_URL          object\n",
      "Seller_name       object\n",
      "Seller_type       object\n",
      "published_date    object\n",
      "dtype: object\n"
     ]
    }
   ],
   "source": [
    "data['Price'] = pd.to_numeric(data['Price'])\n",
    "print(data.dtypes)"
   ]
  },
  {
   "cell_type": "code",
   "execution_count": 82,
   "id": "179c60f6",
   "metadata": {},
   "outputs": [
    {
     "name": "stdout",
     "output_type": "stream",
     "text": [
      "Title              object\n",
      "Sub_title          object\n",
      "Price               int64\n",
      "Brand              object\n",
      "Model              object\n",
      "Edition            object\n",
      "Year                int64\n",
      "Condition          object\n",
      "Transmission       object\n",
      "Body               object\n",
      "Fuel               object\n",
      "Capacity          float64\n",
      "Mileage            object\n",
      "Location           object\n",
      "Description        object\n",
      "Post_URL           object\n",
      "Seller_name        object\n",
      "Seller_type        object\n",
      "published_date     object\n",
      "dtype: object\n"
     ]
    }
   ],
   "source": [
    "data['Capacity'] = pd.to_numeric(data['Capacity'])\n",
    "print(data.dtypes)"
   ]
  },
  {
   "cell_type": "code",
   "execution_count": 75,
   "id": "73bb7050",
   "metadata": {},
   "outputs": [],
   "source": [
    "data['Capacity'] = data['Capacity'].str.replace('-','')"
   ]
  },
  {
   "cell_type": "code",
   "execution_count": 77,
   "id": "dcd65321",
   "metadata": {},
   "outputs": [
    {
     "data": {
      "text/plain": [
       "1500    19676\n",
       "1000    10254\n",
       "650      7380\n",
       "2000     6300\n",
       "1300     5656\n",
       "        ...  \n",
       "2663        1\n",
       "5461        1\n",
       "3636        1\n",
       "309         1\n",
       "5475        1\n",
       "Name: Capacity, Length: 1388, dtype: int64"
      ]
     },
     "execution_count": 77,
     "metadata": {},
     "output_type": "execute_result"
    }
   ],
   "source": [
    "data['Capacity'].value_counts()\n"
   ]
  },
  {
   "cell_type": "code",
   "execution_count": 79,
   "id": "ac3e00b9",
   "metadata": {},
   "outputs": [],
   "source": [
    "#to drop whole rows with Capacity = Negotiable\n",
    "data = data[data[\"Capacity\"].str.contains(\"Manual\") == False]"
   ]
  },
  {
   "cell_type": "code",
   "execution_count": 81,
   "id": "653d64fd",
   "metadata": {},
   "outputs": [],
   "source": [
    "#to drop whole rows with Capacity = Negotiable\n",
    "data = data[data[\"Capacity\"].str.contains(\"Automatic\") == False]"
   ]
  },
  {
   "cell_type": "code",
   "execution_count": 84,
   "id": "5bf45fac",
   "metadata": {},
   "outputs": [],
   "source": [
    "data['Mileage'] = data['Mileage'].str.replace('km','')"
   ]
  },
  {
   "cell_type": "code",
   "execution_count": 88,
   "id": "0334d5b6",
   "metadata": {},
   "outputs": [
    {
     "name": "stdout",
     "output_type": "stream",
     "text": [
      "Title              object\n",
      "Sub_title          object\n",
      "Price               int64\n",
      "Brand              object\n",
      "Model              object\n",
      "Edition            object\n",
      "Year                int64\n",
      "Condition          object\n",
      "Transmission       object\n",
      "Body               object\n",
      "Fuel               object\n",
      "Capacity          float64\n",
      "Mileage           float64\n",
      "Location           object\n",
      "Description        object\n",
      "Post_URL           object\n",
      "Seller_name        object\n",
      "Seller_type        object\n",
      "published_date     object\n",
      "dtype: object\n"
     ]
    }
   ],
   "source": [
    "data['Mileage'] = pd.to_numeric(data['Mileage'])\n",
    "print(data.dtypes)"
   ]
  },
  {
   "cell_type": "code",
   "execution_count": 87,
   "id": "4bdda180",
   "metadata": {},
   "outputs": [],
   "source": [
    "data['Mileage'] = data['Mileage'].str.replace('-','')"
   ]
  },
  {
   "cell_type": "code",
   "execution_count": 90,
   "id": "818f86bd",
   "metadata": {},
   "outputs": [
    {
     "data": {
      "text/plain": [
       "(118260, 19)"
      ]
     },
     "execution_count": 90,
     "metadata": {},
     "output_type": "execute_result"
    }
   ],
   "source": [
    "data.shape\n"
   ]
  },
  {
   "cell_type": "code",
   "execution_count": 91,
   "id": "97d704b4",
   "metadata": {},
   "outputs": [
    {
     "name": "stderr",
     "output_type": "stream",
     "text": [
      "C:\\Users\\hasin\\AppData\\Local\\Temp\\ipykernel_21400\\736241161.py:1: FutureWarning: The default value of numeric_only in DataFrame.corr is deprecated. In a future version, it will default to False. Select only valid columns or specify the value of numeric_only to silence this warning.\n",
      "  data.corr()['Price']\n"
     ]
    },
    {
     "data": {
      "text/plain": [
       "Price       1.000000\n",
       "Year        0.118861\n",
       "Capacity   -0.002971\n",
       "Mileage     0.019040\n",
       "Name: Price, dtype: float64"
      ]
     },
     "execution_count": 91,
     "metadata": {},
     "output_type": "execute_result"
    }
   ],
   "source": [
    "data.corr()['Price']"
   ]
  },
  {
   "cell_type": "code",
   "execution_count": null,
   "id": "10c3aed8",
   "metadata": {},
   "outputs": [],
   "source": []
  }
 ],
 "metadata": {
  "kernelspec": {
   "display_name": "Python 3 (ipykernel)",
   "language": "python",
   "name": "python3"
  },
  "language_info": {
   "codemirror_mode": {
    "name": "ipython",
    "version": 3
   },
   "file_extension": ".py",
   "mimetype": "text/x-python",
   "name": "python",
   "nbconvert_exporter": "python",
   "pygments_lexer": "ipython3",
   "version": "3.9.7"
  }
 },
 "nbformat": 4,
 "nbformat_minor": 5
}
